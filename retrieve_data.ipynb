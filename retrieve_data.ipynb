{
 "cells": [
  {
   "cell_type": "markdown",
   "metadata": {},
   "source": [
    "### Import Required Libraries and Set Up Environment Variables"
   ]
  },
  {
   "cell_type": "code",
   "execution_count": 470,
   "metadata": {},
   "outputs": [],
   "source": [
    "# Dependencies\n",
    "import requests\n",
    "import time\n",
    "from dotenv import load_dotenv\n",
    "import os\n",
    "import pandas as pd\n",
    "import json\n",
    "import os\n",
    "from datetime import datetime\n",
    "## Load the NASA_API_KEY from the env file\n",
    "load_dotenv()\n",
    "NASA_API_KEY = os.getenv('NASA_API_KEY')"
   ]
  },
  {
   "cell_type": "markdown",
   "metadata": {},
   "source": [
    "### CME Data"
   ]
  },
  {
   "cell_type": "code",
   "execution_count": 471,
   "metadata": {},
   "outputs": [],
   "source": [
    "# Set the base URL to NASA's DONKI API:\n",
    "BASE_URL = \"https://api.nasa.gov/DONKI/\"\n",
    "\n",
    "# Set the specifier for CMEs:\n",
    "CME = \"CME\"\n",
    "\n",
    "# Search for CMEs published between a begin and end date\n",
    "startDate = \"2013-05-01\"\n",
    "endDate   = \"2024-05-01\"\n",
    "\n",
    "# Build URL for CME\n",
    "cme_url = f\"{BASE_URL}CME?startDate={startDate}&endDate={endDate}&api_key={NASA_API_KEY}\"\n"
   ]
  },
  {
   "cell_type": "code",
   "execution_count": 472,
   "metadata": {},
   "outputs": [
    {
     "name": "stdout",
     "output_type": "stream",
     "text": [
      "CME request successful!\n"
     ]
    }
   ],
   "source": [
    "# Make a \"GET\" request for the CME URL and store it in a variable named cme_response\n",
    "cme_response = requests.get(cme_url)\n",
    "\n",
    "# Check if the request was successful\n",
    "if cme_response.status_code == 200:\n",
    "    print(\"CME request successful!\")\n",
    "else:\n",
    "    print(f\"Request failed with status code {cme_response.status_code}\")\n",
    "    print(\"Error message:\", cme_response.text)\n"
   ]
  },
  {
   "cell_type": "code",
   "execution_count": 473,
   "metadata": {},
   "outputs": [],
   "source": [
    "# Convert the response variable to json and store it as a variable named cme_json\n",
    "cme_json = cme_response.json()"
   ]
  },
  {
   "cell_type": "code",
   "execution_count": 474,
   "metadata": {
    "scrolled": true
   },
   "outputs": [
    {
     "name": "stdout",
     "output_type": "stream",
     "text": [
      "{\n",
      "    \"activityID\": \"2013-05-01T03:12:00-CME-001\",\n",
      "    \"catalog\": \"M2M_CATALOG\",\n",
      "    \"startTime\": \"2013-05-01T03:12Z\",\n",
      "    \"instruments\": [\n",
      "        {\n",
      "            \"displayName\": \"SOHO: LASCO/C2\"\n",
      "        },\n",
      "        {\n",
      "            \"displayName\": \"SOHO: LASCO/C3\"\n",
      "        },\n",
      "        {\n",
      "            \"displayName\": \"STEREO A: SECCHI/COR2\"\n",
      "        },\n",
      "        {\n",
      "            \"displayName\": \"STEREO B: SECCHI/COR2\"\n",
      "        }\n",
      "    ],\n",
      "    \"sourceLocation\": \"\",\n",
      "    \"activeRegionNum\": null,\n",
      "    \"note\": \"\",\n",
      "    \"submissionTime\": \"2013-08-07T16:54Z\",\n",
      "    \"versionId\": 1,\n",
      "    \"link\": \"https://webtools.ccmc.gsfc.nasa.gov/DONKI/view/CME/2349/-1\",\n",
      "    \"cmeAnalyses\": [\n",
      "        {\n",
      "            \"isMostAccurate\": true,\n",
      "            \"time21_5\": \"2013-05-01T07:07Z\",\n",
      "            \"latitude\": 12.0,\n",
      "            \"longitude\": -120.0,\n",
      "            \"halfAngle\": 36.0,\n",
      "            \"speed\": 860.0,\n",
      "            \"type\": \"C\",\n",
      "            \"featureCode\": \"null\",\n",
      "            \"imageType\": null,\n",
      "            \"measurementTechnique\": \"null\",\n",
      "            \"note\": \"\",\n",
      "            \"levelOfData\": 0,\n",
      "            \"tilt\": null,\n",
      "            \"minorHalfWidth\": null,\n",
      "            \"speedMeasuredAtHeight\": null,\n",
      "            \"submissionTime\": \"2013-08-07T16:54Z\",\n",
      "            \"link\": \"https://webtools.ccmc.gsfc.nasa.gov/DONKI/view/CMEAnalysis/2350/-1\",\n",
      "            \"enlilList\": [\n",
      "                {\n",
      "                    \"modelCompletionTime\": \"2013-05-01T08:32Z\",\n",
      "                    \"au\": 2.0,\n",
      "                    \"estimatedShockArrivalTime\": null,\n",
      "                    \"estimatedDuration\": null,\n",
      "                    \"rmin_re\": null,\n",
      "                    \"kp_18\": null,\n",
      "                    \"kp_90\": null,\n",
      "                    \"kp_135\": null,\n",
      "                    \"kp_180\": null,\n",
      "                    \"isEarthGB\": false,\n",
      "                    \"link\": \"https://webtools.ccmc.gsfc.nasa.gov/DONKI/view/WSA-ENLIL/2348/-1\",\n",
      "                    \"impactList\": [\n",
      "                        {\n",
      "                            \"isGlancingBlow\": false,\n",
      "                            \"location\": \"STEREO B\",\n",
      "                            \"arrivalTime\": \"2013-05-04T06:16Z\"\n",
      "                        }\n",
      "                    ],\n",
      "                    \"cmeIDs\": [\n",
      "                        \"2013-05-01T03:12:00-CME-001\"\n",
      "                    ]\n",
      "                }\n",
      "            ]\n",
      "        }\n",
      "    ],\n",
      "    \"linkedEvents\": [\n",
      "        {\n",
      "            \"activityID\": \"2013-05-04T04:52:00-IPS-001\"\n",
      "        }\n",
      "    ]\n",
      "}\n"
     ]
    }
   ],
   "source": [
    "# Preview ONLY the first element from the cme_json list you created in JSON format\n",
    "# Do NOT print out the entire list\n",
    "# Use json.dumps with argument indent=4 to format data\n",
    "print(json.dumps(cme_json[0], indent=4))\n"
   ]
  },
  {
   "cell_type": "code",
   "execution_count": 475,
   "metadata": {},
   "outputs": [
    {
     "name": "stdout",
     "output_type": "stream",
     "text": [
      "                    activityID          startTime  \\\n",
      "0  2013-05-01T03:12:00-CME-001  2013-05-01T03:12Z   \n",
      "1  2013-05-02T05:24:00-CME-001  2013-05-02T05:24Z   \n",
      "2  2013-05-02T14:36:00-CME-001  2013-05-02T14:36Z   \n",
      "3  2013-05-03T18:00:00-CME-001  2013-05-03T18:00Z   \n",
      "4  2013-05-03T22:36:00-CME-001  2013-05-03T22:36Z   \n",
      "\n",
      "                                      linkedEvents  \n",
      "0  [{'activityID': '2013-05-04T04:52:00-IPS-001'}]  \n",
      "1                                             None  \n",
      "2                                             None  \n",
      "3                                             None  \n",
      "4  [{'activityID': '2013-05-07T04:37:00-IPS-001'}]  \n"
     ]
    }
   ],
   "source": [
    "# Convert cme_json to a Pandas DataFrame \n",
    "cme_df = pd.json_normalize(cme_json)\n",
    "# Keep only the columns: activityID, startTime, linkedEvents\n",
    "cme_df = cme_df[['activityID', 'startTime', 'linkedEvents']]\n",
    "print(cme_df.head())"
   ]
  },
  {
   "cell_type": "code",
   "execution_count": 476,
   "metadata": {},
   "outputs": [],
   "source": [
    "# Notice that the linkedEvents column allows us to identify the corresponding GST\n",
    "# Remove rows with missing 'linkedEvents' since we won't be able to assign these to GSTs\n",
    "cme_df = cme_df.dropna(subset=['linkedEvents'])"
   ]
  },
  {
   "cell_type": "code",
   "execution_count": 477,
   "metadata": {},
   "outputs": [
    {
     "name": "stdout",
     "output_type": "stream",
     "text": [
      "                    activityID          startTime  \\\n",
      "0  2013-05-01T03:12:00-CME-001  2013-05-01T03:12Z   \n",
      "1  2013-05-03T22:36:00-CME-001  2013-05-03T22:36Z   \n",
      "2  2013-05-09T19:29:00-CME-001  2013-05-09T19:29Z   \n",
      "3  2013-05-13T02:54:00-CME-001  2013-05-13T02:54Z   \n",
      "4  2013-05-13T02:54:00-CME-001  2013-05-13T02:54Z   \n",
      "\n",
      "                                    linkedEvents  \n",
      "0  {'activityID': '2013-05-04T04:52:00-IPS-001'}  \n",
      "1  {'activityID': '2013-05-07T04:37:00-IPS-001'}  \n",
      "2  {'activityID': '2013-05-12T23:30:00-IPS-001'}  \n",
      "3  {'activityID': '2013-05-13T01:53:00-FLR-001'}  \n",
      "4  {'activityID': '2013-05-13T04:12:00-SEP-001'}  \n"
     ]
    }
   ],
   "source": [
    "# Notice that the linkedEvents sometimes contains multiple events per row\n",
    "# Write a nested for loop that iterates first over each row in the cme DataFrame (using the index)\n",
    "# and then iterates over the values in 'linkedEvents' \n",
    "# and adds the elements individually to a list of dictionaries where each row is one element \n",
    "\n",
    "# Initialize an empty list to store the expanded rows\n",
    "expanded_rows = []\n",
    "\n",
    "# Iterate over each index in the DataFrame\n",
    "for i in cme_df.index:\n",
    "    # Iterate over each dictionary in the list\n",
    "     activity_id = cme_df.loc[i, 'activityID']\n",
    "     start_time = cme_df.loc[i, 'startTime']\n",
    "     linked_events = cme_df.loc[i, 'linkedEvents']\n",
    "     # Iterate over each dictionary in the linkedEvents list\n",
    "     for event in linked_events:\n",
    "          \n",
    "        # Append a new dictionary to the expanded_rows list for each dictionary item and corresponding 'activityID' and 'startTime' value\n",
    "        expanded_rows.append({\n",
    "            'activityID': activity_id,\n",
    "            'startTime': start_time,\n",
    "            'linkedEvents': event\n",
    "        })\n",
    "# Create a new DataFrame from the expanded rows\n",
    "expanded_df = pd.DataFrame(expanded_rows)\n",
    "print(expanded_df.head())"
   ]
  },
  {
   "cell_type": "code",
   "execution_count": 478,
   "metadata": {},
   "outputs": [
    {
     "name": "stdout",
     "output_type": "stream",
     "text": [
      "Extracted Activity ID: 2013-05-04T04:52:00-IPS-001\n"
     ]
    }
   ],
   "source": [
    "# Create a function called extract_activityID_from_dict that takes a dict as input such as in linkedEvents\n",
    "# and verify below that it works as expected using one row from linkedEvents as an example\n",
    "# Be sure to use a try and except block to handle errors\n",
    "def extract_activityID_from_dict(input_dict):\n",
    "    try:\n",
    "        return input_dict.get('activityID', None)  # Extract the activityID safely\n",
    "    except (AttributeError, TypeError) as e:\n",
    "        print(f\"Error extracting activityID: {e}\")  # Log the error for debugging\n",
    "        return None  # Return None if an error occurs\n",
    "        # Log the error or print it for debugging\n",
    "\n",
    "# Test the function using one row from linkedEvents\n",
    "test_activity_id = extract_activityID_from_dict(expanded_df.loc[0, 'linkedEvents'])\n",
    "print(\"Extracted Activity ID:\", test_activity_id)\n"
   ]
  },
  {
   "cell_type": "code",
   "execution_count": 479,
   "metadata": {},
   "outputs": [],
   "source": [
    "# Apply this function to each row in the 'linkedEvents' column (you can use apply() and a lambda function)\n",
    "# and create a new column called 'GST_ActivityID' using loc indexer:\n",
    "expanded_df.loc[:, 'GST_ActivityID'] = expanded_df['linkedEvents'].apply(lambda x: extract_activityID_from_dict(x))"
   ]
  },
  {
   "cell_type": "code",
   "execution_count": 480,
   "metadata": {},
   "outputs": [],
   "source": [
    "# Remove rows with missing GST_ActivityID, since we can't assign them to GSTs:\n",
    "expanded_df = expanded_df.dropna(subset=['GST_ActivityID'])"
   ]
  },
  {
   "cell_type": "code",
   "execution_count": 481,
   "metadata": {},
   "outputs": [
    {
     "data": {
      "text/plain": [
       "activityID        object\n",
       "startTime         object\n",
       "linkedEvents      object\n",
       "GST_ActivityID    object\n",
       "dtype: object"
      ]
     },
     "execution_count": 481,
     "metadata": {},
     "output_type": "execute_result"
    }
   ],
   "source": [
    "# print out the datatype of each column in this DataFrame:\n",
    "expanded_df.dtypes"
   ]
  },
  {
   "cell_type": "code",
   "execution_count": 482,
   "metadata": {},
   "outputs": [
    {
     "name": "stdout",
     "output_type": "stream",
     "text": [
      "cmeID                          object\n",
      "startTime_CME     datetime64[ns, UTC]\n",
      "GST_ActivityID                 object\n",
      "dtype: object\n",
      "                         cmeID             startTime_CME  \\\n",
      "0  2013-05-01T03:12:00-CME-001 2013-05-01 03:12:00+00:00   \n",
      "1  2013-05-03T22:36:00-CME-001 2013-05-03 22:36:00+00:00   \n",
      "2  2013-05-09T19:29:00-CME-001 2013-05-09 19:29:00+00:00   \n",
      "3  2013-05-13T02:54:00-CME-001 2013-05-13 02:54:00+00:00   \n",
      "4  2013-05-13T02:54:00-CME-001 2013-05-13 02:54:00+00:00   \n",
      "\n",
      "                GST_ActivityID  \n",
      "0  2013-05-04T04:52:00-IPS-001  \n",
      "1  2013-05-07T04:37:00-IPS-001  \n",
      "2  2013-05-12T23:30:00-IPS-001  \n",
      "3  2013-05-13T01:53:00-FLR-001  \n",
      "4  2013-05-13T04:12:00-SEP-001  \n"
     ]
    }
   ],
   "source": [
    "# Convert the 'GST_ActivityID' column to string format \n",
    "expanded_df.loc[:, 'GST_ActivityID'] = expanded_df['GST_ActivityID'].astype(str)\n",
    "# Convert startTime to datetime format  \n",
    "expanded_df['startTime'] = pd.to_datetime(expanded_df['startTime'])\n",
    "# Rename startTime to startTime_CME and activityID to cmeID\n",
    "expanded_df = expanded_df.rename(columns={'startTime': 'startTime_CME', 'activityID': 'cmeID'})\n",
    "# Drop linkedEvents\n",
    "expanded_df = expanded_df.drop(columns=['linkedEvents'])\n",
    "# Verify that all steps were executed correctly\n",
    "print(expanded_df.dtypes)  # Check data types\n",
    "print(expanded_df.head())  # Check first few rows"
   ]
  },
  {
   "cell_type": "code",
   "execution_count": 483,
   "metadata": {},
   "outputs": [],
   "source": [
    "# We are only interested in CMEs related to GSTs so keep only rows where the GST_ActivityID column contains 'GST'\n",
    "# use the method 'contains()' from the str library.  \n",
    "expanded_df = expanded_df[expanded_df['GST_ActivityID'].str.contains('GST', na=False)]\n"
   ]
  },
  {
   "cell_type": "markdown",
   "metadata": {},
   "source": [
    "### GST Data"
   ]
  },
  {
   "cell_type": "code",
   "execution_count": 484,
   "metadata": {},
   "outputs": [],
   "source": [
    "# Set the base URL to NASA's DONKI API:\n",
    "base_url = \"https://api.nasa.gov/DONKI/\"\n",
    "\n",
    "# Set the specifier for Geomagnetic Storms (GST):\n",
    "GST = \"GST\"\n",
    "\n",
    "# Search for GSTs between a begin and end date\n",
    "startDate = \"2013-05-01\"\n",
    "endDate   = \"2024-05-01\"\n",
    "\n",
    "# Build URL for GST\n",
    "gst_url = f\"{base_url}{GST}?startDate={startDate}&endDate={endDate}&api_key={NASA_API_KEY}\""
   ]
  },
  {
   "cell_type": "code",
   "execution_count": 485,
   "metadata": {},
   "outputs": [],
   "source": [
    "# Make a \"GET\" request for the GST URL and store it in a variable named gst_response\n",
    "gst_response = requests.get(gst_url)"
   ]
  },
  {
   "cell_type": "code",
   "execution_count": 486,
   "metadata": {},
   "outputs": [],
   "source": [
    "# Convert the response variable to json and store it as a variable named gst_json\n",
    "gst_json = gst_response.json()"
   ]
  },
  {
   "cell_type": "code",
   "execution_count": 487,
   "metadata": {},
   "outputs": [
    {
     "name": "stdout",
     "output_type": "stream",
     "text": [
      "{\n",
      "    \"gstID\": \"2013-06-01T01:00:00-GST-001\",\n",
      "    \"startTime\": \"2013-06-01T01:00Z\",\n",
      "    \"allKpIndex\": [\n",
      "        {\n",
      "            \"observedTime\": \"2013-06-01T01:00Z\",\n",
      "            \"kpIndex\": 6.0,\n",
      "            \"source\": \"NOAA\"\n",
      "        }\n",
      "    ],\n",
      "    \"link\": \"https://webtools.ccmc.gsfc.nasa.gov/DONKI/view/GST/326/-1\",\n",
      "    \"linkedEvents\": [\n",
      "        {\n",
      "            \"activityID\": \"2013-05-31T15:45:00-HSS-001\"\n",
      "        }\n",
      "    ],\n",
      "    \"submissionTime\": \"2013-07-15T19:26Z\",\n",
      "    \"versionId\": 1\n",
      "}\n"
     ]
    }
   ],
   "source": [
    "# Preview ONLY the first element from the gst_json list you created in JSON format\n",
    "# Do NOT print out the entire list\n",
    "# Use json.dumps with argument indent=4 to format data\n",
    "print(json.dumps(gst_json[0], indent=4))"
   ]
  },
  {
   "cell_type": "code",
   "execution_count": 488,
   "metadata": {},
   "outputs": [],
   "source": [
    "# Convert gst_json to a Pandas DataFrame  \n",
    "gst_df = pd.json_normalize(gst_json)\n",
    "# Keep only the columns: gstID, startTime, linkedEvents\n",
    "gst_df = gst_df[['gstID', 'startTime', 'linkedEvents']]\n",
    "# print(gst_df.head())"
   ]
  },
  {
   "cell_type": "code",
   "execution_count": 489,
   "metadata": {},
   "outputs": [],
   "source": [
    "# Notice that the linkedEvents column allows us to identify the corresponding CME\n",
    "# Remove rows with missing 'linkedEvents' since we won't be able to assign these to CME\n",
    "gst_df = gst_df.dropna(subset=['linkedEvents'])\n",
    "# print(gst_df.head())"
   ]
  },
  {
   "cell_type": "code",
   "execution_count": 490,
   "metadata": {},
   "outputs": [
    {
     "name": "stdout",
     "output_type": "stream",
     "text": [
      "                         gstID          startTime  \\\n",
      "0  2013-06-01T01:00:00-GST-001  2013-06-01T01:00Z   \n",
      "1  2013-06-07T03:00:00-GST-001  2013-06-07T03:00Z   \n",
      "2  2013-10-02T03:00:00-GST-001  2013-10-02T03:00Z   \n",
      "3  2013-10-02T03:00:00-GST-001  2013-10-02T03:00Z   \n",
      "4  2013-10-02T03:00:00-GST-001  2013-10-02T03:00Z   \n",
      "\n",
      "                                    linkedEvents  \n",
      "0  {'activityID': '2013-05-31T15:45:00-HSS-001'}  \n",
      "1  {'activityID': '2013-06-02T20:24:00-CME-001'}  \n",
      "2  {'activityID': '2013-09-29T22:40:00-CME-001'}  \n",
      "3  {'activityID': '2013-10-02T01:54:00-IPS-001'}  \n",
      "4  {'activityID': '2013-10-02T02:47:00-MPC-001'}  \n"
     ]
    }
   ],
   "source": [
    "# Notice that the linkedEvents sometimes contains multiple events per row\n",
    "# Use the explode method to ensure that each row is one element. Ensure to reset the index and drop missing values.\n",
    "gst_df = gst_df.explode('linkedEvents').reset_index(drop=True)\n",
    "gst_df = gst_df.dropna(subset=['linkedEvents'])\n",
    "print(gst_df.head())"
   ]
  },
  {
   "cell_type": "code",
   "execution_count": 491,
   "metadata": {},
   "outputs": [
    {
     "name": "stdout",
     "output_type": "stream",
     "text": [
      "                         gstID          startTime  \\\n",
      "0  2013-06-01T01:00:00-GST-001  2013-06-01T01:00Z   \n",
      "1  2013-06-07T03:00:00-GST-001  2013-06-07T03:00Z   \n",
      "2  2013-10-02T03:00:00-GST-001  2013-10-02T03:00Z   \n",
      "3  2013-10-02T03:00:00-GST-001  2013-10-02T03:00Z   \n",
      "4  2013-10-02T03:00:00-GST-001  2013-10-02T03:00Z   \n",
      "\n",
      "                                    linkedEvents               CME_ActivityID  \n",
      "0  {'activityID': '2013-05-31T15:45:00-HSS-001'}  2013-05-31T15:45:00-HSS-001  \n",
      "1  {'activityID': '2013-06-02T20:24:00-CME-001'}  2013-06-02T20:24:00-CME-001  \n",
      "2  {'activityID': '2013-09-29T22:40:00-CME-001'}  2013-09-29T22:40:00-CME-001  \n",
      "3  {'activityID': '2013-10-02T01:54:00-IPS-001'}  2013-10-02T01:54:00-IPS-001  \n",
      "4  {'activityID': '2013-10-02T02:47:00-MPC-001'}  2013-10-02T02:47:00-MPC-001  \n"
     ]
    }
   ],
   "source": [
    "# Apply the extract_activityID_from_dict function to each row in the 'linkedEvents' column (you can use apply() and a lambda function)\n",
    "# and create a new column called 'CME_ActivityID' using loc indexer:\n",
    "gst_df.loc[:, 'CME_ActivityID'] = gst_df['linkedEvents'].apply(lambda x: extract_activityID_from_dict(x))\n",
    "# Remove rows with missing CME_ActivityID, since we can't assign them to CMEs:\n",
    "gst_df = gst_df.dropna(subset=['CME_ActivityID'])\n",
    "print(gst_df.head())"
   ]
  },
  {
   "cell_type": "code",
   "execution_count": 492,
   "metadata": {},
   "outputs": [
    {
     "name": "stdout",
     "output_type": "stream",
     "text": [
      "                         gstID          startTime  \\\n",
      "0  2013-06-01T01:00:00-GST-001  2013-06-01T01:00Z   \n",
      "1  2013-06-07T03:00:00-GST-001  2013-06-07T03:00Z   \n",
      "2  2013-10-02T03:00:00-GST-001  2013-10-02T03:00Z   \n",
      "3  2013-10-02T03:00:00-GST-001  2013-10-02T03:00Z   \n",
      "4  2013-10-02T03:00:00-GST-001  2013-10-02T03:00Z   \n",
      "\n",
      "                                    linkedEvents               CME_ActivityID  \n",
      "0  {'activityID': '2013-05-31T15:45:00-HSS-001'}  2013-05-31T15:45:00-HSS-001  \n",
      "1  {'activityID': '2013-06-02T20:24:00-CME-001'}  2013-06-02T20:24:00-CME-001  \n",
      "2  {'activityID': '2013-09-29T22:40:00-CME-001'}  2013-09-29T22:40:00-CME-001  \n",
      "3  {'activityID': '2013-10-02T01:54:00-IPS-001'}  2013-10-02T01:54:00-IPS-001  \n",
      "4  {'activityID': '2013-10-02T02:47:00-MPC-001'}  2013-10-02T02:47:00-MPC-001  \n",
      "gstID                          object\n",
      "startTime_GST     datetime64[ns, UTC]\n",
      "CME_ActivityID                 object\n",
      "dtype: object\n",
      "                         gstID             startTime_GST  \\\n",
      "0  2013-06-01T01:00:00-GST-001 2013-06-01 01:00:00+00:00   \n",
      "1  2013-06-07T03:00:00-GST-001 2013-06-07 03:00:00+00:00   \n",
      "2  2013-10-02T03:00:00-GST-001 2013-10-02 03:00:00+00:00   \n",
      "3  2013-10-02T03:00:00-GST-001 2013-10-02 03:00:00+00:00   \n",
      "4  2013-10-02T03:00:00-GST-001 2013-10-02 03:00:00+00:00   \n",
      "\n",
      "                CME_ActivityID  \n",
      "0  2013-05-31T15:45:00-HSS-001  \n",
      "1  2013-06-02T20:24:00-CME-001  \n",
      "2  2013-09-29T22:40:00-CME-001  \n",
      "3  2013-10-02T01:54:00-IPS-001  \n",
      "4  2013-10-02T02:47:00-MPC-001  \n"
     ]
    }
   ],
   "source": [
    "print(gst_df.head())\n",
    "# Convert the 'CME_ActivityID' column to string format \n",
    "gst_df.loc[:, 'CME_ActivityID'] = gst_df['CME_ActivityID'].astype(str)\n",
    "# Convert the 'gstID' column to string format \n",
    "gst_df.loc[:, 'gstID'] = gst_df['gstID'].astype(str)\n",
    "# Convert startTime to datetime format  \n",
    "gst_df['startTime'] = pd.to_datetime(gst_df['startTime'])\n",
    "# Rename startTime to startTime_GST \n",
    "gst_df = gst_df.rename(columns={'startTime': 'startTime_GST'})\n",
    "# Drop linkedEvents\n",
    "gst_df = gst_df.drop(columns=['linkedEvents'])\n",
    "# Verify that all steps were executed correctly\n",
    "print(gst_df.dtypes)\n",
    "print(gst_df.head())"
   ]
  },
  {
   "cell_type": "code",
   "execution_count": 493,
   "metadata": {},
   "outputs": [],
   "source": [
    "# We are only interested in GSTs related to CMEs so keep only rows where the CME_ActivityID column contains 'CME'\n",
    "# use the method 'contains()' from the str library.  \n",
    "gst_df = gst_df[gst_df['CME_ActivityID'].str.contains('CME', na=False)]"
   ]
  },
  {
   "cell_type": "markdown",
   "metadata": {},
   "source": [
    "### Merge both datatsets"
   ]
  },
  {
   "cell_type": "code",
   "execution_count": 494,
   "metadata": {},
   "outputs": [
    {
     "name": "stdout",
     "output_type": "stream",
     "text": [
      "                         gstID             startTime_GST  \\\n",
      "0  2013-06-07T03:00:00-GST-001 2013-06-07 03:00:00+00:00   \n",
      "1  2013-10-02T03:00:00-GST-001 2013-10-02 03:00:00+00:00   \n",
      "2  2013-12-08T00:00:00-GST-001 2013-12-08 00:00:00+00:00   \n",
      "3  2014-02-19T03:00:00-GST-001 2014-02-19 03:00:00+00:00   \n",
      "4  2014-02-20T03:00:00-GST-001 2014-02-20 03:00:00+00:00   \n",
      "\n",
      "                CME_ActivityID                        cmeID  \\\n",
      "0  2013-06-02T20:24:00-CME-001  2013-06-02T20:24:00-CME-001   \n",
      "1  2013-09-29T22:40:00-CME-001  2013-09-29T22:40:00-CME-001   \n",
      "2  2013-12-04T23:12:00-CME-001  2013-12-04T23:12:00-CME-001   \n",
      "3  2014-02-16T14:15:00-CME-001  2014-02-16T14:15:00-CME-001   \n",
      "4  2014-02-18T01:25:00-CME-001  2014-02-18T01:25:00-CME-001   \n",
      "\n",
      "              startTime_CME               GST_ActivityID  \n",
      "0 2013-06-02 20:24:00+00:00  2013-06-07T03:00:00-GST-001  \n",
      "1 2013-09-29 22:40:00+00:00  2013-10-02T03:00:00-GST-001  \n",
      "2 2013-12-04 23:12:00+00:00  2013-12-08T00:00:00-GST-001  \n",
      "3 2014-02-16 14:15:00+00:00  2014-02-19T03:00:00-GST-001  \n",
      "4 2014-02-18 01:25:00+00:00  2014-02-20T03:00:00-GST-001  \n"
     ]
    }
   ],
   "source": [
    "# Now merge both datasets using 'gstID' and 'CME_ActivityID' for gst and 'GST_ActivityID' and 'cmeID' for cme. Use the 'left_on' and 'right_on' specifiers.\n",
    "merged_df = gst_df.merge(\n",
    "    expanded_df, \n",
    "    left_on=['gstID', 'CME_ActivityID'], \n",
    "    right_on=['GST_ActivityID', 'cmeID'], \n",
    "    how='inner'  # Ensures we only keep matching records\n",
    ")\n",
    "print(merged_df.head())"
   ]
  },
  {
   "cell_type": "code",
   "execution_count": 495,
   "metadata": {},
   "outputs": [
    {
     "name": "stdout",
     "output_type": "stream",
     "text": [
      "Rows in CME DataFrame: 61\n",
      "Rows in GST DataFrame: 61\n",
      "Rows in Merged DataFrame: 61\n"
     ]
    }
   ],
   "source": [
    "# Verify that the new DataFrame has the same number of rows as cme and gst\n",
    "print(f\"Rows in CME DataFrame: {expanded_df.shape[0]}\")\n",
    "print(f\"Rows in GST DataFrame: {gst_df.shape[0]}\")\n",
    "print(f\"Rows in Merged DataFrame: {merged_df.shape[0]}\")\n"
   ]
  },
  {
   "cell_type": "markdown",
   "metadata": {},
   "source": [
    "### Computing the time it takes for a CME to cause a GST"
   ]
  },
  {
   "cell_type": "code",
   "execution_count": 496,
   "metadata": {},
   "outputs": [],
   "source": [
    "# Compute the time diff between startTime_GST and startTime_CME by creating a new column called `timeDiff`.\n",
    "merged_df.loc[:, 'timeDiff'] = (merged_df['startTime_GST'] - merged_df['startTime_CME']).dt.total_seconds()"
   ]
  },
  {
   "cell_type": "code",
   "execution_count": 497,
   "metadata": {},
   "outputs": [
    {
     "name": "stdout",
     "output_type": "stream",
     "text": [
      "count        61.000000\n",
      "mean     257366.557377\n",
      "std       85989.336914\n",
      "min      117360.000000\n",
      "25%      187200.000000\n",
      "50%      244260.000000\n",
      "75%      308100.000000\n",
      "max      529200.000000\n",
      "Name: timeDiff, dtype: float64\n"
     ]
    }
   ],
   "source": [
    "# Use describe() to compute the mean and median time \n",
    "# that it takes for a CME to cause a GST. \n",
    "print(merged_df['timeDiff'].describe())"
   ]
  },
  {
   "cell_type": "markdown",
   "metadata": {},
   "source": [
    "### Exporting data in csv format"
   ]
  },
  {
   "cell_type": "code",
   "execution_count": 498,
   "metadata": {},
   "outputs": [
    {
     "name": "stdout",
     "output_type": "stream",
     "text": [
      "Final data exported to final_data.csv\n"
     ]
    }
   ],
   "source": [
    "# Export data to CSV without the index\n",
    "merged_df.to_csv('final_data.csv', index=False)\n",
    "\n",
    "print(\"Final data exported to final_data.csv\")"
   ]
  }
 ],
 "metadata": {
  "kernelspec": {
   "display_name": "Python 3 (ipykernel)",
   "language": "python",
   "name": "python3"
  },
  "language_info": {
   "codemirror_mode": {
    "name": "ipython",
    "version": 3
   },
   "file_extension": ".py",
   "mimetype": "text/x-python",
   "name": "python",
   "nbconvert_exporter": "python",
   "pygments_lexer": "ipython3",
   "version": "3.10.14"
  },
  "varInspector": {
   "cols": {
    "lenName": 16,
    "lenType": 16,
    "lenVar": 40
   },
   "kernels_config": {
    "python": {
     "delete_cmd_postfix": "",
     "delete_cmd_prefix": "del ",
     "library": "var_list.py",
     "varRefreshCmd": "print(var_dic_list())"
    },
    "r": {
     "delete_cmd_postfix": ") ",
     "delete_cmd_prefix": "rm(",
     "library": "var_list.r",
     "varRefreshCmd": "cat(var_dic_list()) "
    }
   },
   "types_to_exclude": [
    "module",
    "function",
    "builtin_function_or_method",
    "instance",
    "_Feature"
   ],
   "window_display": false
  }
 },
 "nbformat": 4,
 "nbformat_minor": 4
}
